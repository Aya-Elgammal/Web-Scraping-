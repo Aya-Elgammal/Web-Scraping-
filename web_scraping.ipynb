{
  "cells": [
    {
      "cell_type": "markdown",
      "metadata": {
        "id": "view-in-github",
        "colab_type": "text"
      },
      "source": [
        "<a href=\"https://colab.research.google.com/github/Aya-Elgammal/Web-Scraping-/blob/main/web_scraping.ipynb\" target=\"_parent\"><img src=\"https://colab.research.google.com/assets/colab-badge.svg\" alt=\"Open In Colab\"/></a>"
      ]
    },
    {
      "cell_type": "markdown",
      "source": [
        "#<font color=darkdarkorange>**Solution of Task ➞ <span class='label label-default'>Web Scraping</span>**</font>"
      ],
      "metadata": {
        "id": "c_dIeaU4vRhv"
      }
    },
    {
      "cell_type": "code",
      "source": [
        "import requests\n",
        "from bs4 import BeautifulSoup\n",
        "import csv"
      ],
      "metadata": {
        "id": "Re_gtHuxvfyZ"
      },
      "execution_count": 1,
      "outputs": []
    },
    {
      "cell_type": "code",
      "source": [
        "url = 'https://www.baraasallout.com/test.html'\n",
        "response = requests.get(url)\n",
        "soup = BeautifulSoup(response.content, 'html.parser')\n",
        "print(soup.get_text())"
      ],
      "metadata": {
        "colab": {
          "base_uri": "https://localhost:8080/"
        },
        "id": "EayyVmhbvlLn",
        "outputId": "009bd2dc-6d3f-4df4-a776-579a4be7ac97"
      },
      "execution_count": 2,
      "outputs": [
        {
          "output_type": "stream",
          "name": "stdout",
          "text": [
            "\n",
            "\n",
            "\n",
            "Web Scraping Task with Form\n",
            "\n",
            "\n",
            "\n",
            "Web Scraping Practice\n",
            "Welcome to the web scraping task! Use your skills to extract the required data from this page.\n",
            "Available Products\n",
            "\n",
            "Laptop\n",
            "Smartphone\n",
            "Tablet\n",
            "Smartwatch\n",
            "\n",
            "Product Table\n",
            "\n",
            "\n",
            "Product\n",
            "Price\n",
            "In Stock\n",
            "\n",
            "\n",
            "Laptop\n",
            "$1000\n",
            "Yes\n",
            "\n",
            "\n",
            "Smartphone\n",
            "$800\n",
            "No\n",
            "\n",
            "\n",
            "Tablet\n",
            "$500\n",
            "Yes\n",
            "\n",
            "\n",
            "Watch This Video\n",
            "\n",
            "Contact Us\n",
            "\n",
            "Username:\n",
            "\n",
            "Password:\n",
            "\n",
            "Choose an option:\n",
            "\n",
            "Option 1\n",
            "Option 2\n",
            "Option 3\n",
            "\n",
            "\n",
            " I agree to the terms and conditions\n",
            "            \n",
            "\n",
            "\n",
            "Product Information\n",
            "\n",
            "\n",
            "\n",
            "Sharp Objects\n",
            "£47.82\n",
            "✔ In stock\n",
            "Add to basket\n",
            "\n",
            "\n",
            "\n",
            "In a Dark, Dark Wood\n",
            "£19.63\n",
            "✔ In stock\n",
            "Add to basket\n",
            "\n",
            "\n",
            "\n",
            "The Past Never Ends\n",
            "£56.50\n",
            "✔ In stock\n",
            "Add to basket\n",
            "\n",
            "\n",
            "\n",
            "A Murder in Time\n",
            "£16.64\n",
            " Out stock\n",
            "Add to basket\n",
            "\n",
            "\n",
            "Featured Products\n",
            "\n",
            "\n",
            "\n",
            "Wireless Headphones\n",
            "$49.99\n",
            "Available colors: Black, White, Blue\n",
            "Add to Basket\n",
            "\n",
            "\n",
            "\n",
            "Smart Speaker\n",
            "$89.99\n",
            "Available colors: Grey, Black\n",
            "Add to Basket\n",
            "\n",
            "\n",
            "\n",
            "Smart Watch\n",
            "$149.99\n",
            "Available colors: Black, Silver, Gold\n",
            "Add to Basket\n",
            "\n",
            "\n",
            "\n",
            "© 2024 Web Scraping Practice. All Rights Reserved.\n",
            "\n",
            "\n",
            "\n",
            "\n"
          ]
        }
      ]
    },
    {
      "cell_type": "markdown",
      "source": [
        "<font color=darkdarkorange><span class='label label-default'>**1-Extract Text Data**</span></font>"
      ],
      "metadata": {
        "id": "VHoHzLqFv1HN"
      }
    },
    {
      "cell_type": "code",
      "source": [
        "headers_1 = soup.find_all('h1')\n",
        "for header in headers_1:\n",
        "      print(\"headeing : \",header.get_text(strip=True))"
      ],
      "metadata": {
        "colab": {
          "base_uri": "https://localhost:8080/"
        },
        "id": "HJaxMnGPzrhI",
        "outputId": "c0a1a30a-fb90-45a0-988e-0d53103f213f"
      },
      "execution_count": 3,
      "outputs": [
        {
          "output_type": "stream",
          "name": "stdout",
          "text": [
            "headeing :  Web Scraping Practice\n"
          ]
        }
      ]
    },
    {
      "cell_type": "code",
      "execution_count": 4,
      "metadata": {
        "colab": {
          "base_uri": "https://localhost:8080/"
        },
        "id": "GDvNHI3RwkGP",
        "outputId": "9adf8060-a3fa-4b3c-d19e-61b37d36104f"
      },
      "outputs": [
        {
          "output_type": "stream",
          "name": "stdout",
          "text": [
            "heading :  Available Products\n",
            "heading :  Product Table\n",
            "heading :  Watch This Video\n",
            "heading :  Contact Us\n",
            "heading :  Product Information\n",
            "heading :  Featured Products\n"
          ]
        }
      ],
      "source": [
        "headers_2 = soup.find_all('h2')\n",
        "for header in headers_2:\n",
        "      print(\"heading : \",header.get_text(strip=True))"
      ]
    },
    {
      "cell_type": "code",
      "execution_count": 5,
      "metadata": {
        "colab": {
          "base_uri": "https://localhost:8080/"
        },
        "id": "7lEn7pCRwycm",
        "outputId": "ad6b7383-8bf6-4e0f-bd21-8ae5fb461c51"
      },
      "outputs": [
        {
          "output_type": "stream",
          "name": "stdout",
          "text": [
            "Welcome to the web scraping task! Use your skills to extract the required data from this page.\n",
            "Sharp Objects\n",
            "£47.82\n",
            "✔ In stock\n",
            "In a Dark, Dark Wood\n",
            "£19.63\n",
            "✔ In stock\n",
            "The Past Never Ends\n",
            "£56.50\n",
            "✔ In stock\n",
            "A Murder in Time\n",
            "£16.64\n",
            "Out stock\n",
            "Wireless Headphones\n",
            "$49.99\n",
            "Available colors: Black, White, Blue\n",
            "Smart Speaker\n",
            "$89.99\n",
            "Available colors: Grey, Black\n",
            "Smart Watch\n",
            "$149.99\n",
            "Available colors: Black, Silver, Gold\n",
            "© 2024 Web Scraping Practice. All Rights Reserved.\n"
          ]
        }
      ],
      "source": [
        "paragraphs = soup.find_all('p')\n",
        "for paragraph in paragraphs:\n",
        "    print(paragraph.get_text(strip=True))"
      ]
    },
    {
      "cell_type": "code",
      "execution_count": 6,
      "metadata": {
        "colab": {
          "base_uri": "https://localhost:8080/"
        },
        "id": "KU0JnQ-tzVFZ",
        "outputId": "76d6c482-ea3f-4bf7-dd55-54319a386582"
      },
      "outputs": [
        {
          "output_type": "stream",
          "name": "stdout",
          "text": [
            "List :  Laptop\n",
            "List :  Smartphone\n",
            "List :  Tablet\n",
            "List :  Smartwatch\n"
          ]
        }
      ],
      "source": [
        "lines = soup.find_all('li')\n",
        "for line in lines:\n",
        "    print(\"List : \",line.get_text(strip=True))"
      ]
    },
    {
      "cell_type": "code",
      "execution_count": 7,
      "metadata": {
        "id": "yQTeJrDrMkmp"
      },
      "outputs": [],
      "source": [
        "header=['Type','Content']\n",
        "data=[['Header','Web Scraping Practice'],['Header','Available Products'],\n",
        " ['Header','Product Table'],['Header','Watch This Video'],\n",
        " ['Header','Contact Us'],['Header','Product Information'],\n",
        " ['Header','Featured Products'],['paragraph','Welcome to the web scraping task! Use your skills to extract the required data from this page.'],\n",
        " ['paragraph','Sharp Objects'],['paragraph','£47.82'],['paragraph','✔ In stock'],\n",
        " ['paragraph','In a Dark, Dark Wood'],['paragraph','£19.63'],['paragraph','✔ In stock'],\n",
        " ['paragraph','The Past Never Ends'],['paragraph','£56.50'],['paragraph','The Past Never Ends'],\n",
        " ['paragraph','✔ In stock'],['paragraph','The Past Never Ends'],['paragraph','A Murder in Time'],\n",
        " ['paragraph','£16.64'],['paragraph','Out stock'],['paragraph','Wireless Headphones'],\n",
        " ['paragraph','$49.99'],['paragraph','Available colors: Black, White, Blue'],['paragraph','Out stock'],\n",
        " ['paragraph','Smart Speaker'],['paragraph','$149.99'],['paragraph','Available colors: Black, Silver, Gold'],\n",
        " ['paragraph','Smart Watch'],['paragraph','$149.99'],['paragraph','Available colors: Black, Silver, Gold'],\n",
        " ['List','Laptop'],['List','Smartphone'],['List','Tablet'],['List','Smartwatch'] ]\n",
        "with open('Extract_Text_Data.csv', mode='w',encoding='utf-8') as f:\n",
        "    writer = csv.writer(f)\n",
        "    writer.writerow(header)\n",
        "    writer.writerows(data)"
      ]
    },
    {
      "cell_type": "markdown",
      "source": [
        "<font color=darkdarkorange><span class='label label-default'>**2-Extract Table Data**</span></font>"
      ],
      "metadata": {
        "id": "ljMWgUiDwLP2"
      }
    },
    {
      "cell_type": "code",
      "source": [
        "tables = soup.find_all('table')\n",
        "for table in tables:\n",
        "    header_row = table.find_all('tr')[0]\n",
        "    for th in header_row.find_all('th'):\n",
        "        print(th.get_text(strip=True))"
      ],
      "metadata": {
        "colab": {
          "base_uri": "https://localhost:8080/"
        },
        "id": "mduIPhC6yCEH",
        "outputId": "84b03dab-099e-4ee4-bb37-2995253d1e92"
      },
      "execution_count": 8,
      "outputs": [
        {
          "output_type": "stream",
          "name": "stdout",
          "text": [
            "Product\n",
            "Price\n",
            "In Stock\n"
          ]
        }
      ]
    },
    {
      "cell_type": "code",
      "source": [
        "rows = []\n",
        "for row in table.find_all('tr')[1:]:\n",
        "        row_data = []\n",
        "        for td in row.find_all('td'):\n",
        "            row_data.append(td.get_text(strip=True))\n",
        "        rows.append(row_data)\n",
        "for row in rows:\n",
        "        print(row)"
      ],
      "metadata": {
        "colab": {
          "base_uri": "https://localhost:8080/"
        },
        "id": "lb4kkeCfCxQU",
        "outputId": "6afb5c34-84bd-4b5c-9d86-e81ccc7be583"
      },
      "execution_count": 9,
      "outputs": [
        {
          "output_type": "stream",
          "name": "stdout",
          "text": [
            "['Laptop', '$1000', 'Yes']\n",
            "['Smartphone', '$800', 'No']\n",
            "['Tablet', '$500', 'Yes']\n"
          ]
        }
      ]
    },
    {
      "cell_type": "code",
      "source": [
        "header=['Product','Price','In Stock']\n",
        "data=[['Laptop', '$1000', 'Yes'],['Smartphone', '$800', 'No'],['Tablet', '$500', 'Yes']]\n",
        "with open('Extract_Table_Data.csv', mode='w',encoding='utf-8') as f:\n",
        "    writer = csv.writer(f)\n",
        "    writer.writerow(header)\n",
        "    writer.writerows(data)"
      ],
      "metadata": {
        "id": "I5TDEITpDcec"
      },
      "execution_count": 11,
      "outputs": []
    },
    {
      "cell_type": "code",
      "source": [
        "# divs = soup.find_all('div',style='display: flex; justify-content: space-around; margin-top: 20px;')\n",
        "# row1=[]\n",
        "# for div in divs:\n",
        "#     imgs=div.find_all('img')\n",
        "#     for img in imgs:\n",
        "#        row1.append(img.get('alt'))\n",
        "# row1"
      ],
      "metadata": {
        "colab": {
          "base_uri": "https://localhost:8080/"
        },
        "id": "ISmk0XgkEGgD",
        "outputId": "8cbeb2b5-f346-4d3a-b9fb-816f611434fb"
      },
      "execution_count": null,
      "outputs": [
        {
          "output_type": "execute_result",
          "data": {
            "text/plain": [
              "['Sharp Objects',\n",
              " 'In a Dark, Dark Wood',\n",
              " 'The Past Never Ends',\n",
              " 'A Murder in Time']"
            ]
          },
          "metadata": {},
          "execution_count": 17
        }
      ]
    },
    {
      "cell_type": "markdown",
      "source": [
        "<font color=darkdarkorange><span class='label label-default'>**3-Extract Product Information**</span></font>"
      ],
      "metadata": {
        "id": "X_F0V7KEwlfS"
      }
    },
    {
      "cell_type": "code",
      "source": [
        "divs = soup.find_all('div',style='text-align: center; width: 200px; border: 1px solid #ddd; padding: 10px; border-radius: 5px;')\n",
        "para=[]\n",
        "for div in divs:\n",
        "    paragraphs=div.find_all('p')\n",
        "    for paragraph in paragraphs:\n",
        "       para.append(paragraph.get_text(strip='True'))\n",
        "para"
      ],
      "metadata": {
        "id": "mEsthUbWLLUy",
        "colab": {
          "base_uri": "https://localhost:8080/"
        },
        "outputId": "317c5f20-9ceb-4957-ee56-005bed899a00"
      },
      "execution_count": 12,
      "outputs": [
        {
          "output_type": "execute_result",
          "data": {
            "text/plain": [
              "['Sharp Objects',\n",
              " '£47.82',\n",
              " '✔ In stock',\n",
              " 'In a Dark, Dark Wood',\n",
              " '£19.63',\n",
              " '✔ In stock',\n",
              " 'The Past Never Ends',\n",
              " '£56.50',\n",
              " '✔ In stock',\n",
              " 'A Murder in Time',\n",
              " '£16.64',\n",
              " 'Out stock']"
            ]
          },
          "metadata": {},
          "execution_count": 12
        }
      ]
    },
    {
      "cell_type": "code",
      "source": [
        "divs = soup.find_all('div',style=\"display: flex; justify-content: space-around; margin-top: 20px;\")\n",
        "buttons=[]\n",
        "for div in divs:\n",
        "    paragraphs=div.find_all('button')\n",
        "    for paragraph in paragraphs:\n",
        "       buttons.append(paragraph.get_text(strip='True'))\n",
        "buttons"
      ],
      "metadata": {
        "colab": {
          "base_uri": "https://localhost:8080/"
        },
        "id": "QH7ANemhXk4y",
        "outputId": "66d41154-1677-4dfb-e872-4d7b18edb6c9"
      },
      "execution_count": 13,
      "outputs": [
        {
          "output_type": "execute_result",
          "data": {
            "text/plain": [
              "['Add to basket', 'Add to basket', 'Add to basket', 'Add to basket']"
            ]
          },
          "metadata": {},
          "execution_count": 13
        }
      ]
    },
    {
      "cell_type": "code",
      "source": [
        "import json\n",
        "Product_Information= {\n",
        "    'book cards':[\n",
        "        {\n",
        "          'Book Title':'Sharp Objects',\n",
        "          'Price':'£47.82',\n",
        "          'Stock Availability':' ✔ In stock',\n",
        "          'Button text':'Add to basket'\n",
        "        },\n",
        "        {\n",
        "          'Book Title':'In a Dark, Dark Wood',\n",
        "          'Price':'£19.63',\n",
        "          'Stock Availability':' ✔ In stock',\n",
        "          'Button text':'Add to basket'\n",
        "        },\n",
        "        {\n",
        "          'Book Title':'The Past Never Ends',\n",
        "          'Price': '£56.50',\n",
        "          'Stock Availability':'✔ In stock',\n",
        "          'Button text':'Add to basket'\n",
        "        },\n",
        "        {\n",
        "          'Book Title':'A Murder in Time',\n",
        "          'Price':' £16.64',\n",
        "          'Stock Availability':' Out stock',\n",
        "          'Button text':'Add to basket'\n",
        "        }\n",
        "    ]\n",
        "}\n",
        "with open('Product_Information.json', 'w',encoding='utf-8') as json_file:\n",
        "    json.dump(Product_Information, json_file,ensure_ascii=False, indent=4)"
      ],
      "metadata": {
        "id": "kx1YRadCZP6Q"
      },
      "execution_count": 14,
      "outputs": []
    },
    {
      "cell_type": "markdown",
      "source": [
        "<font color=darkdarkorange><span class='label label-default'>**4-Extract Form Details**</span></font>"
      ],
      "metadata": {
        "id": "K-ECA88zwzwy"
      }
    },
    {
      "cell_type": "code",
      "source": [
        "forms=soup.find_all('form')\n",
        "answers=[]\n",
        "for form in forms:\n",
        "    inputs=form.find_all('input')\n",
        "    for input_element in inputs:\n",
        "        input_name=input_element.get('name')\n",
        "        input_type=input_element.get('type')\n",
        "        input_placeholder=input_element.get('placeholder')\n",
        "        answers.append({\n",
        "            'name': input_name,\n",
        "            'type' :input_type,\n",
        "            'placeholder': input_placeholder\n",
        "        })\n",
        "answers"
      ],
      "metadata": {
        "colab": {
          "base_uri": "https://localhost:8080/"
        },
        "id": "AqVsvFL40KUE",
        "outputId": "25e7c468-19d1-4ab6-99d9-3665c2b9df0a"
      },
      "execution_count": 15,
      "outputs": [
        {
          "output_type": "execute_result",
          "data": {
            "text/plain": [
              "[{'name': 'username', 'type': 'text', 'placeholder': 'Enter your username'},\n",
              " {'name': 'password',\n",
              "  'type': 'password',\n",
              "  'placeholder': 'Enter your password'},\n",
              " {'name': 'terms', 'type': 'checkbox', 'placeholder': None},\n",
              " {'name': None, 'type': 'submit', 'placeholder': None}]"
            ]
          },
          "metadata": {},
          "execution_count": 15
        }
      ]
    },
    {
      "cell_type": "code",
      "source": [
        "FormDetails= {\n",
        "    'form':[\n",
        "          {'name': 'username', 'type': 'text', 'placeholder': 'Enter your username'},\n",
        "          {'name': 'password','type': 'password','placeholder': 'Enter your password'},\n",
        "          {'name': 'terms', 'type': 'checkbox', 'placeholder': None},\n",
        "          {'name': None, 'type': 'submit', 'placeholder': None}\n",
        "    ]}\n",
        "with open('FormDetails.json', 'w',encoding='utf-8') as json_file:\n",
        "    json.dump(FormDetails, json_file,ensure_ascii=False, indent=4)"
      ],
      "metadata": {
        "id": "I-pURV4f1hI-"
      },
      "execution_count": 16,
      "outputs": []
    },
    {
      "cell_type": "markdown",
      "source": [
        "<font color=darkdarkorange><span class='label label-default'>**5-Extract Links and Multimedia**</span></font>"
      ],
      "metadata": {
        "id": "aS1gSQWMxNPU"
      }
    },
    {
      "cell_type": "code",
      "source": [
        "links=soup.find_all('a')\n",
        "print(links)"
      ],
      "metadata": {
        "colab": {
          "base_uri": "https://localhost:8080/"
        },
        "id": "PnEukUqb_Jmo",
        "outputId": "9d084e27-f705-4524-85e2-71262ef047b7"
      },
      "execution_count": 17,
      "outputs": [
        {
          "output_type": "stream",
          "name": "stdout",
          "text": [
            "[]\n"
          ]
        }
      ]
    },
    {
      "cell_type": "code",
      "source": [
        "video_link=soup.find_all('iframe')\n",
        "for iframe in video_link:\n",
        "    link = iframe.get('src')\n",
        "    print(link)"
      ],
      "metadata": {
        "colab": {
          "base_uri": "https://localhost:8080/"
        },
        "id": "XFPE7K83Cj4m",
        "outputId": "21c2af7d-a4d9-49b7-d7f0-2feca52a92b9"
      },
      "execution_count": 18,
      "outputs": [
        {
          "output_type": "stream",
          "name": "stdout",
          "text": [
            "https://www.youtube.com/watch?v=ujf9RNuBdCU\n"
          ]
        }
      ]
    },
    {
      "cell_type": "code",
      "source": [
        "Links= {\n",
        "    'maltimedia':[\n",
        "          {'link': 'https://www.youtube.com/watch?v=ujf9RNuBdCU'}\n",
        "\n",
        "    ]}\n",
        "with open('maltimedia.json', 'w',encoding='utf-8') as json_file:\n",
        "    json.dump(Links, json_file,ensure_ascii=False, indent=4)"
      ],
      "metadata": {
        "id": "GyJ5ns1G0qta"
      },
      "execution_count": 20,
      "outputs": []
    },
    {
      "cell_type": "markdown",
      "source": [
        "<font color=darkdarkorange><span class='label label-default'>**6-Scraping Challenge**</span></font>"
      ],
      "metadata": {
        "id": "yhzMZEjQxaOi"
      }
    },
    {
      "cell_type": "code",
      "source": [
        "LinkDetails= {\n",
        "    'Link':[\n",
        "      {'Link': 'https://www.youtube.com/watch?v=ujf9RNuBdCU'}\n",
        "    ]}\n",
        "with open('LinkDetails.json', 'w',encoding='utf-8') as json_file:\n",
        "    json.dump(LinkDetails, json_file,ensure_ascii=False, indent=4)"
      ],
      "metadata": {
        "id": "ZferNxTFFUM7"
      },
      "execution_count": 21,
      "outputs": []
    },
    {
      "cell_type": "code",
      "source": [
        "divs=soup.find_all('div',class_ ='products')\n",
        "divs"
      ],
      "metadata": {
        "colab": {
          "base_uri": "https://localhost:8080/"
        },
        "id": "mHIc-TjBF3_B",
        "outputId": "a5ca7738-e8c0-43d4-8053-9ad1e1787bdf"
      },
      "execution_count": 22,
      "outputs": [
        {
          "output_type": "execute_result",
          "data": {
            "text/plain": [
              "[<div class=\"products\">\n",
              " <div class=\"product-card\" data-id=\"101\">\n",
              " <img alt=\"Wireless Headphones\" src=\"https://via.placeholder.com/250x150?text=Product+1\"/>\n",
              " <p class=\"name\">Wireless Headphones</p>\n",
              " <p class=\"price\" style=\"display: none;\">$49.99</p>\n",
              " <p class=\"colors\">Available colors: Black, White, Blue</p>\n",
              " <button>Add to Basket</button>\n",
              " </div>\n",
              " <div class=\"product-card\" data-id=\"102\">\n",
              " <img alt=\"Smart Speaker\" src=\"https://via.placeholder.com/250x150?text=Product+2\"/>\n",
              " <p class=\"name\">Smart Speaker</p>\n",
              " <p class=\"price\" style=\"display: none;\">$89.99</p>\n",
              " <p class=\"colors\">Available colors: Grey, Black</p>\n",
              " <button>Add to Basket</button>\n",
              " </div>\n",
              " <div class=\"product-card\" data-id=\"103\">\n",
              " <img alt=\"Smart Watch\" src=\"https://via.placeholder.com/250x150?text=Product+3\"/>\n",
              " <p class=\"name\">Smart Watch</p>\n",
              " <p class=\"price\" style=\"display: none;\">$149.99</p>\n",
              " <p class=\"colors\">Available colors: Black, Silver, Gold</p>\n",
              " <button>Add to Basket</button>\n",
              " </div>\n",
              " </div>]"
            ]
          },
          "metadata": {},
          "execution_count": 22
        }
      ]
    },
    {
      "cell_type": "code",
      "source": [
        "divs=soup.find_all('div',class_ ='product-card')\n",
        "# print(divs)\n",
        "ID=[]\n",
        "for div in divs:\n",
        "   i=div['data-id']\n",
        "   ID.append(i)\n",
        "print(ID)"
      ],
      "metadata": {
        "colab": {
          "base_uri": "https://localhost:8080/"
        },
        "id": "H_7AdzsAPs4Z",
        "outputId": "e9979cdc-6de5-40b4-b410-fbcdf188b971"
      },
      "execution_count": 23,
      "outputs": [
        {
          "output_type": "stream",
          "name": "stdout",
          "text": [
            "['101', '102', '103']\n"
          ]
        }
      ]
    },
    {
      "cell_type": "code",
      "source": [
        "divs=soup.find_all('div',class_ ='product-card')\n",
        "pa=[]\n",
        "for div in divs:\n",
        "    paragraph=div.find_all('p')\n",
        "    for p in paragraph:\n",
        "      pa.append(p.get_text(strip='True'))\n",
        "print(pa)"
      ],
      "metadata": {
        "colab": {
          "base_uri": "https://localhost:8080/"
        },
        "id": "yAkhrgz7NKN5",
        "outputId": "6ac89d8f-f9af-4622-f6e1-9b1e96aefe4b"
      },
      "execution_count": 24,
      "outputs": [
        {
          "output_type": "stream",
          "name": "stdout",
          "text": [
            "['Wireless Headphones', '$49.99', 'Available colors: Black, White, Blue', 'Smart Speaker', '$89.99', 'Available colors: Grey, Black', 'Smart Watch', '$149.99', 'Available colors: Black, Silver, Gold']\n"
          ]
        }
      ]
    },
    {
      "cell_type": "code",
      "source": [
        "import json\n",
        "Featured_Products= {\n",
        "    'Featured_Productss':[\n",
        "          {'id':'101','name':'Wireless Headphones','price':'$49.99','colors':'Black, White, Blue'},\n",
        "          {'id':'102','name':'Smart Speaker','price':'$89.99','colors':'Grey, Black'},\n",
        "          {'id':'103','name':'Smart Watch','price':'$149.99','colors':' Black, Silver, Gold'}\n",
        "    ]\n",
        "    }\n",
        "with open('Featured_Products.json', 'w', encoding='utf-8') as json_file:\n",
        "    json.dump(Featured_Products, json_file, ensure_ascii=False, indent=4)"
      ],
      "metadata": {
        "id": "H9jQr4xkS4oa"
      },
      "execution_count": 26,
      "outputs": []
    }
  ],
  "metadata": {
    "colab": {
      "provenance": [],
      "authorship_tag": "ABX9TyNzCH/4fhQ0mIBlNzBzOIcD",
      "include_colab_link": true
    },
    "kernelspec": {
      "display_name": "Python 3",
      "name": "python3"
    },
    "language_info": {
      "name": "python"
    }
  },
  "nbformat": 4,
  "nbformat_minor": 0
}