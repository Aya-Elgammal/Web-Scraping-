{
  "cells": [
    {
      "cell_type": "markdown",
      "metadata": {
        "id": "view-in-github",
        "colab_type": "text"
      },
      "source": [
        "<a href=\"https://colab.research.google.com/github/Aya-Elgammal/Web-Scraping-/blob/main/web_scraping.ipynb\" target=\"_parent\"><img src=\"https://colab.research.google.com/assets/colab-badge.svg\" alt=\"Open In Colab\"/></a>"
      ]
    },
    {
      "cell_type": "markdown",
      "source": [
        "#<font color=darkdarkorange>**Solution of Task ➞ <span class='label label-default'>Web Scraping</span>**</font>"
      ],
      "metadata": {
        "id": "c_dIeaU4vRhv"
      }
    },
    {
      "cell_type": "code",
      "source": [
        "import requests\n",
        "from bs4 import BeautifulSoup\n",
        "import csv"
      ],
      "metadata": {
        "id": "Re_gtHuxvfyZ"
      },
      "execution_count": 1,
      "outputs": []
    },
    {
      "cell_type": "code",
      "source": [
        "url = 'https://www.baraasallout.com/test.html'\n",
        "response = requests.get(url)\n",
        "soup = BeautifulSoup(response.content, 'html.parser') #parsing all data in the website\n",
        "print(soup.get_text())"
      ],
      "metadata": {
        "colab": {
          "base_uri": "https://localhost:8080/"
        },
        "id": "EayyVmhbvlLn",
        "outputId": "60cb0d63-4985-41aa-a85f-a9a7957dddc3"
      },
      "execution_count": 2,
      "outputs": [
        {
          "output_type": "stream",
          "name": "stdout",
          "text": [
            "\n",
            "\n",
            "\n",
            "Web Scraping Task with Form\n",
            "\n",
            "\n",
            "\n",
            "Web Scraping Practice\n",
            "Welcome to the web scraping task! Use your skills to extract the required data from this page.\n",
            "Available Products\n",
            "\n",
            "Laptop\n",
            "Smartphone\n",
            "Tablet\n",
            "Smartwatch\n",
            "\n",
            "Product Table\n",
            "\n",
            "\n",
            "Product\n",
            "Price\n",
            "In Stock\n",
            "\n",
            "\n",
            "Laptop\n",
            "$1000\n",
            "Yes\n",
            "\n",
            "\n",
            "Smartphone\n",
            "$800\n",
            "No\n",
            "\n",
            "\n",
            "Tablet\n",
            "$500\n",
            "Yes\n",
            "\n",
            "\n",
            "Watch This Video\n",
            "\n",
            "Contact Us\n",
            "\n",
            "Username:\n",
            "\n",
            "Password:\n",
            "\n",
            "Choose an option:\n",
            "\n",
            "Option 1\n",
            "Option 2\n",
            "Option 3\n",
            "\n",
            "\n",
            " I agree to the terms and conditions\n",
            "            \n",
            "\n",
            "\n",
            "Product Information\n",
            "\n",
            "\n",
            "\n",
            "Sharp Objects\n",
            "£47.82\n",
            "✔ In stock\n",
            "Add to basket\n",
            "\n",
            "\n",
            "\n",
            "In a Dark, Dark Wood\n",
            "£19.63\n",
            "✔ In stock\n",
            "Add to basket\n",
            "\n",
            "\n",
            "\n",
            "The Past Never Ends\n",
            "£56.50\n",
            "✔ In stock\n",
            "Add to basket\n",
            "\n",
            "\n",
            "\n",
            "A Murder in Time\n",
            "£16.64\n",
            " Out stock\n",
            "Add to basket\n",
            "\n",
            "\n",
            "Featured Products\n",
            "\n",
            "\n",
            "\n",
            "Wireless Headphones\n",
            "$49.99\n",
            "Available colors: Black, White, Blue\n",
            "Add to Basket\n",
            "\n",
            "\n",
            "\n",
            "Smart Speaker\n",
            "$89.99\n",
            "Available colors: Grey, Black\n",
            "Add to Basket\n",
            "\n",
            "\n",
            "\n",
            "Smart Watch\n",
            "$149.99\n",
            "Available colors: Black, Silver, Gold\n",
            "Add to Basket\n",
            "\n",
            "\n",
            "\n",
            "© 2024 Web Scraping Practice. All Rights Reserved.\n",
            "\n",
            "\n",
            "\n",
            "\n"
          ]
        }
      ]
    },
    {
      "cell_type": "markdown",
      "source": [
        "<font color=darkdarkorange><span class='label label-default'>**1-Extract Text Data**</span></font>"
      ],
      "metadata": {
        "id": "VHoHzLqFv1HN"
      }
    },
    {
      "cell_type": "code",
      "source": [
        "#extract data in <h1>data</h1>\n",
        "headers_1 = soup.find_all('h1')\n",
        "for header in headers_1:\n",
        "      print(\"headeing : \",header.get_text(strip=True))"
      ],
      "metadata": {
        "colab": {
          "base_uri": "https://localhost:8080/"
        },
        "id": "HJaxMnGPzrhI",
        "outputId": "2119e7ea-63e2-48ad-d294-6296630af12b"
      },
      "execution_count": 3,
      "outputs": [
        {
          "output_type": "stream",
          "name": "stdout",
          "text": [
            "headeing :  Web Scraping Practice\n"
          ]
        }
      ]
    },
    {
      "cell_type": "code",
      "execution_count": 4,
      "metadata": {
        "colab": {
          "base_uri": "https://localhost:8080/"
        },
        "id": "GDvNHI3RwkGP",
        "outputId": "c6b6e16e-7615-4365-e1a2-53ca0eb702b8"
      },
      "outputs": [
        {
          "output_type": "stream",
          "name": "stdout",
          "text": [
            "heading :  Available Products\n",
            "heading :  Product Table\n",
            "heading :  Watch This Video\n",
            "heading :  Contact Us\n",
            "heading :  Product Information\n",
            "heading :  Featured Products\n"
          ]
        }
      ],
      "source": [
        "#extract data in <h2>data</h2>\n",
        "headers_2 = soup.find_all('h2')\n",
        "for header in headers_2:\n",
        "      print(\"heading : \",header.get_text(strip=True))"
      ]
    },
    {
      "cell_type": "code",
      "execution_count": 5,
      "metadata": {
        "colab": {
          "base_uri": "https://localhost:8080/"
        },
        "id": "7lEn7pCRwycm",
        "outputId": "20d4d6ac-549c-432f-c485-340a637b9a75"
      },
      "outputs": [
        {
          "output_type": "stream",
          "name": "stdout",
          "text": [
            "Welcome to the web scraping task! Use your skills to extract the required data from this page.\n",
            "Sharp Objects\n",
            "£47.82\n",
            "✔ In stock\n",
            "In a Dark, Dark Wood\n",
            "£19.63\n",
            "✔ In stock\n",
            "The Past Never Ends\n",
            "£56.50\n",
            "✔ In stock\n",
            "A Murder in Time\n",
            "£16.64\n",
            "Out stock\n",
            "Wireless Headphones\n",
            "$49.99\n",
            "Available colors: Black, White, Blue\n",
            "Smart Speaker\n",
            "$89.99\n",
            "Available colors: Grey, Black\n",
            "Smart Watch\n",
            "$149.99\n",
            "Available colors: Black, Silver, Gold\n",
            "© 2024 Web Scraping Practice. All Rights Reserved.\n"
          ]
        }
      ],
      "source": [
        "#extract data in <p>data</p>\n",
        "paragraphs = soup.find_all('p')\n",
        "for paragraph in paragraphs:\n",
        "    print(paragraph.get_text(strip=True))"
      ]
    },
    {
      "cell_type": "code",
      "execution_count": 6,
      "metadata": {
        "colab": {
          "base_uri": "https://localhost:8080/"
        },
        "id": "KU0JnQ-tzVFZ",
        "outputId": "38ff698f-9065-46f0-ae49-5ccadd4bf297"
      },
      "outputs": [
        {
          "output_type": "stream",
          "name": "stdout",
          "text": [
            "List :  Laptop\n",
            "List :  Smartphone\n",
            "List :  Tablet\n",
            "List :  Smartwatch\n"
          ]
        }
      ],
      "source": [
        "#extract data in <li>data</li>\n",
        "lines = soup.find_all('li')\n",
        "for line in lines:\n",
        "    print(\"List : \",line.get_text(strip=True))"
      ]
    },
    {
      "cell_type": "code",
      "execution_count": 7,
      "metadata": {
        "id": "yQTeJrDrMkmp"
      },
      "outputs": [],
      "source": [
        "#made a csv file and insert data in it\n",
        "header=['Type','Content']\n",
        "data=[['Header','Web Scraping Practice'],['Header','Available Products'],\n",
        " ['Header','Product Table'],['Header','Watch This Video'],\n",
        " ['Header','Contact Us'],['Header','Product Information'],\n",
        " ['Header','Featured Products'],['paragraph','Welcome to the web scraping task! Use your skills to extract the required data from this page.'],\n",
        " ['paragraph','Sharp Objects'],['paragraph','£47.82'],['paragraph','✔ In stock'],\n",
        " ['paragraph','In a Dark, Dark Wood'],['paragraph','£19.63'],['paragraph','✔ In stock'],\n",
        " ['paragraph','The Past Never Ends'],['paragraph','£56.50'],['paragraph','The Past Never Ends'],\n",
        " ['paragraph','✔ In stock'],['paragraph','The Past Never Ends'],['paragraph','A Murder in Time'],\n",
        " ['paragraph','£16.64'],['paragraph','Out stock'],['paragraph','Wireless Headphones'],\n",
        " ['paragraph','$49.99'],['paragraph','Available colors: Black, White, Blue'],['paragraph','Out stock'],\n",
        " ['paragraph','Smart Speaker'],['paragraph','$149.99'],['paragraph','Available colors: Black, Silver, Gold'],\n",
        " ['paragraph','Smart Watch'],['paragraph','$149.99'],['paragraph','Available colors: Black, Silver, Gold'],\n",
        " ['List','Laptop'],['List','Smartphone'],['List','Tablet'],['List','Smartwatch'] ]\n",
        "with open('Extract_Text_Data.csv', mode='w',encoding='utf-8') as f:\n",
        "    writer = csv.writer(f)\n",
        "    writer.writerow(header)\n",
        "    writer.writerows(data)"
      ]
    },
    {
      "cell_type": "markdown",
      "source": [
        "<font color=darkdarkorange><span class='label label-default'>**2-Extract Table Data**</span></font>"
      ],
      "metadata": {
        "id": "ljMWgUiDwLP2"
      }
    },
    {
      "cell_type": "code",
      "source": [
        "#extract data in from the table\n",
        "tables = soup.find_all('table')\n",
        "for table in tables:\n",
        "    header_row = table.find_all('tr')[0] #to find first row in the table\n",
        "    for th in header_row.find_all('th'):\n",
        "        print(th.get_text(strip=True))"
      ],
      "metadata": {
        "colab": {
          "base_uri": "https://localhost:8080/"
        },
        "id": "mduIPhC6yCEH",
        "outputId": "c30afd81-7b0f-4a5b-f7e4-405fdc850c35"
      },
      "execution_count": 8,
      "outputs": [
        {
          "output_type": "stream",
          "name": "stdout",
          "text": [
            "Product\n",
            "Price\n",
            "In Stock\n"
          ]
        }
      ]
    },
    {
      "cell_type": "code",
      "source": [
        "#extract data in from the table\n",
        "rows = []\n",
        "for row in table.find_all('tr')[1:]:#to find second row in the table to the end of the table\n",
        "        row_data = []\n",
        "        for td in row.find_all('td'):\n",
        "            row_data.append(td.get_text(strip=True))\n",
        "        rows.append(row_data)\n",
        "for row in rows:\n",
        "        print(row)"
      ],
      "metadata": {
        "colab": {
          "base_uri": "https://localhost:8080/"
        },
        "id": "lb4kkeCfCxQU",
        "outputId": "e6f97ff8-0a91-44e8-a908-43ddac72335e"
      },
      "execution_count": 9,
      "outputs": [
        {
          "output_type": "stream",
          "name": "stdout",
          "text": [
            "['Laptop', '$1000', 'Yes']\n",
            "['Smartphone', '$800', 'No']\n",
            "['Tablet', '$500', 'Yes']\n"
          ]
        }
      ]
    },
    {
      "cell_type": "code",
      "source": [
        "#put table data in csv file\n",
        "header=['Product','Price','In Stock']\n",
        "data=[['Laptop', '$1000', 'Yes'],['Smartphone', '$800', 'No'],['Tablet', '$500', 'Yes']]\n",
        "with open('Extract_Table_Data.csv', mode='w',encoding='utf-8') as f:\n",
        "    writer = csv.writer(f)\n",
        "    writer.writerow(header)\n",
        "    writer.writerows(data)"
      ],
      "metadata": {
        "id": "I5TDEITpDcec"
      },
      "execution_count": 10,
      "outputs": []
    },
    {
      "cell_type": "code",
      "source": [
        "# divs = soup.find_all('div',style='display: flex; justify-content: space-around; margin-top: 20px;')\n",
        "# row1=[]\n",
        "# for div in divs:\n",
        "#     imgs=div.find_all('img')\n",
        "#     for img in imgs:\n",
        "#        row1.append(img.get('alt'))\n",
        "# row1"
      ],
      "metadata": {
        "id": "ISmk0XgkEGgD"
      },
      "execution_count": 11,
      "outputs": []
    },
    {
      "cell_type": "markdown",
      "source": [
        "<font color=darkdarkorange><span class='label label-default'>**3-Extract Product Information**</span></font>"
      ],
      "metadata": {
        "id": "X_F0V7KEwlfS"
      }
    },
    {
      "cell_type": "code",
      "source": [
        "divs = soup.find_all('div',style='text-align: center; width: 200px; border: 1px solid #ddd; padding: 10px; border-radius: 5px;')\n",
        "para=[]\n",
        "for div in divs:\n",
        "    paragraphs=div.find_all('p')\n",
        "    for paragraph in paragraphs:#find all data in <p> tag which in div style='text-align: center; ..... to the end of the div\n",
        "       para.append(paragraph.get_text(strip='True'))\n",
        "para"
      ],
      "metadata": {
        "id": "mEsthUbWLLUy",
        "colab": {
          "base_uri": "https://localhost:8080/"
        },
        "outputId": "4f51cb78-dc6c-46d1-97d4-62a557d2564a"
      },
      "execution_count": 12,
      "outputs": [
        {
          "output_type": "execute_result",
          "data": {
            "text/plain": [
              "['Sharp Objects',\n",
              " '£47.82',\n",
              " '✔ In stock',\n",
              " 'In a Dark, Dark Wood',\n",
              " '£19.63',\n",
              " '✔ In stock',\n",
              " 'The Past Never Ends',\n",
              " '£56.50',\n",
              " '✔ In stock',\n",
              " 'A Murder in Time',\n",
              " '£16.64',\n",
              " 'Out stock']"
            ]
          },
          "metadata": {},
          "execution_count": 12
        }
      ]
    },
    {
      "cell_type": "code",
      "source": [
        "divs = soup.find_all('div',style=\"display: flex; justify-content: space-around; margin-top: 20px;\")\n",
        "buttons=[]\n",
        "for div in divs:\n",
        "    paragraphs=div.find_all('button') #to find data in <button>data</button>\n",
        "    for paragraph in paragraphs:\n",
        "       buttons.append(paragraph.get_text(strip='True'))\n",
        "buttons"
      ],
      "metadata": {
        "colab": {
          "base_uri": "https://localhost:8080/"
        },
        "id": "QH7ANemhXk4y",
        "outputId": "361a3977-d01a-4931-c27d-f02f7ee6b9ae"
      },
      "execution_count": 13,
      "outputs": [
        {
          "output_type": "execute_result",
          "data": {
            "text/plain": [
              "['Add to basket', 'Add to basket', 'Add to basket', 'Add to basket']"
            ]
          },
          "metadata": {},
          "execution_count": 13
        }
      ]
    },
    {
      "cell_type": "code",
      "source": [
        "#put extracted data in Product_Information in json file\n",
        "import json\n",
        "Product_Information= {\n",
        "    'book cards':[\n",
        "        {\n",
        "          'Book Title':'Sharp Objects',\n",
        "          'Price':'£47.82',\n",
        "          'Stock Availability':' ✔ In stock',\n",
        "          'Button text':'Add to basket'\n",
        "        },\n",
        "        {\n",
        "          'Book Title':'In a Dark, Dark Wood',\n",
        "          'Price':'£19.63',\n",
        "          'Stock Availability':' ✔ In stock',\n",
        "          'Button text':'Add to basket'\n",
        "        },\n",
        "        {\n",
        "          'Book Title':'The Past Never Ends',\n",
        "          'Price': '£56.50',\n",
        "          'Stock Availability':'✔ In stock',\n",
        "          'Button text':'Add to basket'\n",
        "        },\n",
        "        {\n",
        "          'Book Title':'A Murder in Time',\n",
        "          'Price':' £16.64',\n",
        "          'Stock Availability':' Out stock',\n",
        "          'Button text':'Add to basket'\n",
        "        }\n",
        "    ]\n",
        "}\n",
        "with open('Product_Information.json', 'w',encoding='utf-8') as json_file:\n",
        "    json.dump(Product_Information, json_file,ensure_ascii=False, indent=4)"
      ],
      "metadata": {
        "id": "kx1YRadCZP6Q"
      },
      "execution_count": 14,
      "outputs": []
    },
    {
      "cell_type": "markdown",
      "source": [
        "<font color=darkdarkorange><span class='label label-default'>**4-Extract Form Details**</span></font>"
      ],
      "metadata": {
        "id": "K-ECA88zwzwy"
      }
    },
    {
      "cell_type": "code",
      "source": [
        "forms=soup.find_all('form') #find all data in form\n",
        "answers=[]\n",
        "for form in forms:\n",
        "    inputs=form.find_all('input') #enter in input tag\n",
        "    for input_element in inputs:# it has three component\n",
        "        input_name=input_element.get('name')\n",
        "        input_type=input_element.get('type')\n",
        "        input_placeholder=input_element.get('placeholder')\n",
        "        # cause it has 3 component i made list of dictionary includes three categories\n",
        "        answers.append({\n",
        "            'name': input_name,\n",
        "            'type' :input_type,\n",
        "            'placeholder': input_placeholder\n",
        "        })\n",
        "answers"
      ],
      "metadata": {
        "colab": {
          "base_uri": "https://localhost:8080/"
        },
        "id": "AqVsvFL40KUE",
        "outputId": "85d7721c-00ed-4d12-d5ad-df2823d3d8b3"
      },
      "execution_count": 15,
      "outputs": [
        {
          "output_type": "execute_result",
          "data": {
            "text/plain": [
              "[{'name': 'username', 'type': 'text', 'placeholder': 'Enter your username'},\n",
              " {'name': 'password',\n",
              "  'type': 'password',\n",
              "  'placeholder': 'Enter your password'},\n",
              " {'name': 'terms', 'type': 'checkbox', 'placeholder': None},\n",
              " {'name': None, 'type': 'submit', 'placeholder': None}]"
            ]
          },
          "metadata": {},
          "execution_count": 15
        }
      ]
    },
    {
      "cell_type": "code",
      "source": [
        "#put forms files in json file\n",
        "FormDetails= {\n",
        "    'form':[\n",
        "          {'name': 'username', 'type': 'text', 'placeholder': 'Enter your username'},\n",
        "          {'name': 'password','type': 'password','placeholder': 'Enter your password'},\n",
        "          {'name': 'terms', 'type': 'checkbox', 'placeholder': None},\n",
        "          {'name': None, 'type': 'submit', 'placeholder': None}\n",
        "    ]}\n",
        "with open('FormDetails.json', 'w',encoding='utf-8') as json_file:\n",
        "    json.dump(FormDetails, json_file,ensure_ascii=False, indent=4)"
      ],
      "metadata": {
        "id": "I-pURV4f1hI-"
      },
      "execution_count": 16,
      "outputs": []
    },
    {
      "cell_type": "markdown",
      "source": [
        "<font color=darkdarkorange><span class='label label-default'>**5-Extract Links and Multimedia**</span></font>"
      ],
      "metadata": {
        "id": "aS1gSQWMxNPU"
      }
    },
    {
      "cell_type": "code",
      "source": [
        "#find links\n",
        "links=soup.find_all('a')\n",
        "print(links)"
      ],
      "metadata": {
        "colab": {
          "base_uri": "https://localhost:8080/"
        },
        "id": "PnEukUqb_Jmo",
        "outputId": "51a3b1e8-36b6-4fd8-ff9a-90473d1c1031"
      },
      "execution_count": 17,
      "outputs": [
        {
          "output_type": "stream",
          "name": "stdout",
          "text": [
            "[]\n"
          ]
        }
      ]
    },
    {
      "cell_type": "code",
      "source": [
        "video_link=soup.find_all('iframe')\n",
        "for iframe in video_link:\n",
        "    link = iframe.get('src')\n",
        "    print(link)"
      ],
      "metadata": {
        "colab": {
          "base_uri": "https://localhost:8080/"
        },
        "id": "XFPE7K83Cj4m",
        "outputId": "72b34446-2aa0-401f-bb71-03cfefd9f22c"
      },
      "execution_count": 18,
      "outputs": [
        {
          "output_type": "stream",
          "name": "stdout",
          "text": [
            "https://www.youtube.com/watch?v=ujf9RNuBdCU\n"
          ]
        }
      ]
    },
    {
      "cell_type": "code",
      "source": [
        "# put the output in json file\n",
        "LinkDetails= {\n",
        "    'maltimedia':[\n",
        "          {'link': 'https://www.youtube.com/watch?v=ujf9RNuBdCU'}\n",
        "\n",
        "    ]}\n",
        "with open('maltimedia.json', 'w',encoding='utf-8') as json_file:\n",
        "    json.dump(LinkDetails, json_file,ensure_ascii=False, indent=4)"
      ],
      "metadata": {
        "id": "GyJ5ns1G0qta"
      },
      "execution_count": 20,
      "outputs": []
    },
    {
      "cell_type": "markdown",
      "source": [
        "<font color=darkdarkorange><span class='label label-default'>**6-Scraping Challenge**</span></font>"
      ],
      "metadata": {
        "id": "yhzMZEjQxaOi"
      }
    },
    {
      "cell_type": "code",
      "source": [
        "divs=soup.find_all('div',class_ ='products')\n",
        "divs   # it was for me to understand what the website do not important"
      ],
      "metadata": {
        "colab": {
          "base_uri": "https://localhost:8080/"
        },
        "id": "mHIc-TjBF3_B",
        "outputId": "0a523296-6ab6-44d4-fe12-c85e48bcdf0c"
      },
      "execution_count": 21,
      "outputs": [
        {
          "output_type": "execute_result",
          "data": {
            "text/plain": [
              "[<div class=\"products\">\n",
              " <div class=\"product-card\" data-id=\"101\">\n",
              " <img alt=\"Wireless Headphones\" src=\"https://via.placeholder.com/250x150?text=Product+1\"/>\n",
              " <p class=\"name\">Wireless Headphones</p>\n",
              " <p class=\"price\" style=\"display: none;\">$49.99</p>\n",
              " <p class=\"colors\">Available colors: Black, White, Blue</p>\n",
              " <button>Add to Basket</button>\n",
              " </div>\n",
              " <div class=\"product-card\" data-id=\"102\">\n",
              " <img alt=\"Smart Speaker\" src=\"https://via.placeholder.com/250x150?text=Product+2\"/>\n",
              " <p class=\"name\">Smart Speaker</p>\n",
              " <p class=\"price\" style=\"display: none;\">$89.99</p>\n",
              " <p class=\"colors\">Available colors: Grey, Black</p>\n",
              " <button>Add to Basket</button>\n",
              " </div>\n",
              " <div class=\"product-card\" data-id=\"103\">\n",
              " <img alt=\"Smart Watch\" src=\"https://via.placeholder.com/250x150?text=Product+3\"/>\n",
              " <p class=\"name\">Smart Watch</p>\n",
              " <p class=\"price\" style=\"display: none;\">$149.99</p>\n",
              " <p class=\"colors\">Available colors: Black, Silver, Gold</p>\n",
              " <button>Add to Basket</button>\n",
              " </div>\n",
              " </div>]"
            ]
          },
          "metadata": {},
          "execution_count": 21
        }
      ]
    },
    {
      "cell_type": "code",
      "source": [
        "divs=soup.find_all('div',class_ ='product-card') # i have a condition to extract div not all divs i need here\n",
        "# print(divs)\n",
        "ID=[]\n",
        "for div in divs:\n",
        "   i=div['data-id']   # find value of data-id\n",
        "   ID.append(i)\n",
        "print(ID)"
      ],
      "metadata": {
        "colab": {
          "base_uri": "https://localhost:8080/"
        },
        "id": "H_7AdzsAPs4Z",
        "outputId": "47a13069-0266-4b0e-cabf-d159269f00ab"
      },
      "execution_count": 22,
      "outputs": [
        {
          "output_type": "stream",
          "name": "stdout",
          "text": [
            "['101', '102', '103']\n"
          ]
        }
      ]
    },
    {
      "cell_type": "code",
      "source": [
        "divs=soup.find_all('div',class_ ='product-card')\n",
        "pa=[]\n",
        "for div in divs:\n",
        "    paragraph=div.find_all('p') # inside of div which has a class_ ='product-card' i extract paragraphs in it\n",
        "    for p in paragraph:\n",
        "      pa.append(p.get_text(strip='True'))\n",
        "print(pa)"
      ],
      "metadata": {
        "colab": {
          "base_uri": "https://localhost:8080/"
        },
        "id": "yAkhrgz7NKN5",
        "outputId": "6d0833fb-d594-4cca-d702-ee0e1c0072a9"
      },
      "execution_count": 23,
      "outputs": [
        {
          "output_type": "stream",
          "name": "stdout",
          "text": [
            "['Wireless Headphones', '$49.99', 'Available colors: Black, White, Blue', 'Smart Speaker', '$89.99', 'Available colors: Grey, Black', 'Smart Watch', '$149.99', 'Available colors: Black, Silver, Gold']\n"
          ]
        }
      ]
    },
    {
      "cell_type": "code",
      "source": [
        "#put Featured_Products in json file\n",
        "import json\n",
        "Featured_Products= {\n",
        "    'Featured_Productss':[\n",
        "          {'id':'101','name':'Wireless Headphones','price':'$49.99','colors':'Black, White, Blue'},\n",
        "          {'id':'102','name':'Smart Speaker','price':'$89.99','colors':'Grey, Black'},\n",
        "          {'id':'103','name':'Smart Watch','price':'$149.99','colors':' Black, Silver, Gold'}\n",
        "    ]\n",
        "    }\n",
        "with open('Featured_Products.json', 'w', encoding='utf-8') as json_file:\n",
        "    json.dump(Featured_Products, json_file, ensure_ascii=False, indent=4)"
      ],
      "metadata": {
        "id": "H9jQr4xkS4oa"
      },
      "execution_count": 24,
      "outputs": []
    }
  ],
  "metadata": {
    "colab": {
      "provenance": [],
      "authorship_tag": "ABX9TyNdTbo2eGT15841Ymf2qGUJ",
      "include_colab_link": true
    },
    "kernelspec": {
      "display_name": "Python 3",
      "name": "python3"
    },
    "language_info": {
      "name": "python"
    }
  },
  "nbformat": 4,
  "nbformat_minor": 0
}